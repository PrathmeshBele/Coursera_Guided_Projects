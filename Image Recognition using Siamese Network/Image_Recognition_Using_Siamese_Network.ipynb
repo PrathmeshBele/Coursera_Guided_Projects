{
 "cells": [
  {
   "cell_type": "code",
   "execution_count": 1,
   "metadata": {
    "colab": {
     "base_uri": "https://localhost:8080/",
     "height": 35
    },
    "colab_type": "code",
    "id": "T7mCrA_xjGBi",
    "outputId": "1e8f610b-62b8-4455-d199-b2fc3b1dd56f"
   },
   "outputs": [
    {
     "name": "stdout",
     "output_type": "stream",
     "text": [
      "TensorFlow version: 2.2.0\n"
     ]
    }
   ],
   "source": [
    "%matplotlib notebook\n",
    "\n",
    "import tensorflow as tf\n",
    "import matplotlib.pyplot as plt\n",
    "import numpy as np\n",
    "import random\n",
    "\n",
    "from sklearn.decomposition import PCA\n",
    "\n",
    "print('TensorFlow version:', tf.__version__)"
   ]
  },
  {
   "cell_type": "code",
   "execution_count": 2,
   "metadata": {
    "colab": {},
    "colab_type": "code",
    "id": "wSDPdKD9jGBp"
   },
   "outputs": [],
   "source": [
    "class PCAPlotter(tf.keras.callbacks.Callback):\n",
    "    \n",
    "    def __init__(self, plt, embedding_model, x_test, y_test):\n",
    "        super(PCAPlotter, self).__init__()\n",
    "        self.embedding_model = embedding_model\n",
    "        self.x_test = x_test\n",
    "        self.y_test = y_test\n",
    "        self.fig = plt.figure(figsize=(9, 4))\n",
    "        self.ax1 = plt.subplot(1, 2, 1)\n",
    "        self.ax2 = plt.subplot(1, 2, 2)\n",
    "        plt.ion()\n",
    "        \n",
    "        self.losses = []\n",
    "    \n",
    "    def plot(self, epoch=None, plot_loss=False):\n",
    "        x_test_embeddings = self.embedding_model.predict(self.x_test)\n",
    "        pca_out = PCA(n_components=2).fit_transform(x_test_embeddings)\n",
    "        self.ax1.clear()\n",
    "        self.ax1.scatter(pca_out[:, 0], pca_out[:, 1], c=self.y_test, cmap='seismic')\n",
    "        if plot_loss:\n",
    "            self.ax2.clear()\n",
    "            self.ax2.plot(range(epoch), self.losses)\n",
    "            self.ax2.set_xlabel('Epochs')\n",
    "            self.ax2.set_ylabel('Loss')\n",
    "        self.fig.canvas.draw()\n",
    "    \n",
    "    def on_train_begin(self, logs=None):\n",
    "        self.losses = []\n",
    "        self.fig.show()\n",
    "        self.fig.canvas.draw()\n",
    "        self.plot()\n",
    "        \n",
    "    def on_epoch_end(self, epoch, logs=None):\n",
    "        self.losses.append(logs.get('loss'))\n",
    "        self.plot(epoch+1, plot_loss=True)"
   ]
  },
  {
   "cell_type": "code",
   "execution_count": 3,
   "metadata": {
    "colab": {
     "base_uri": "https://localhost:8080/",
     "height": 35
    },
    "colab_type": "code",
    "id": "336RdPzIjGBv",
    "outputId": "c86d1b29-469e-4e78-a261-3e0ccc0547b9"
   },
   "outputs": [
    {
     "name": "stdout",
     "output_type": "stream",
     "text": [
      "(60000, 28, 28)\n"
     ]
    }
   ],
   "source": [
    "(x_train, y_train), (x_test, y_test) = tf.keras.datasets.mnist.load_data()\n",
    "print(x_train.shape)"
   ]
  },
  {
   "cell_type": "code",
   "execution_count": 4,
   "metadata": {
    "colab": {
     "base_uri": "https://localhost:8080/",
     "height": 35
    },
    "colab_type": "code",
    "id": "uyhE6OPCjGBz",
    "outputId": "c9c35447-9c6d-4ed3-86f1-f4d4dba5cea0"
   },
   "outputs": [
    {
     "name": "stdout",
     "output_type": "stream",
     "text": [
      "(60000, 784)\n"
     ]
    }
   ],
   "source": [
    "x_train = np.reshape(x_train, (x_train.shape[0], 784))/255.\n",
    "x_test = np.reshape(x_test, (x_test.shape[0], 784))/255.\n",
    "print(x_train.shape)"
   ]
  },
  {
   "cell_type": "code",
   "execution_count": 5,
   "metadata": {
    "colab": {},
    "colab_type": "code",
    "id": "bYuojMUfjGB4"
   },
   "outputs": [],
   "source": [
    "def plot_triplets(examples):\n",
    "    plt.figure(figsize=(6, 2))\n",
    "    for i in range(3):\n",
    "        plt.subplot(1, 3, 1 + i)\n",
    "        plt.imshow(np.reshape(examples[i], (28, 28)), cmap='binary')\n",
    "        plt.xticks([])\n",
    "        plt.yticks([])\n",
    "    plt.show()"
   ]
  },
  {
   "cell_type": "code",
   "execution_count": 6,
   "metadata": {
    "colab": {
     "base_uri": "https://localhost:8080/",
     "height": 133
    },
    "colab_type": "code",
    "id": "KP5QI4najGB8",
    "outputId": "086dea6d-c895-490b-cc86-5014304133fd"
   },
   "outputs": [
    {
     "data": {
      "image/png": "[encoded data removed]",
      "text/plain": [
       "<Figure size 432x144 with 3 Axes>"
      ]
     },
     "metadata": {
      "tags": []
     },
     "output_type": "display_data"
    }
   ],
   "source": [
    "plot_triplets([x_train[0], x_train[1], x_train[2]])"
   ]
  },
  {
   "cell_type": "code",
   "execution_count": 7,
   "metadata": {
    "colab": {},
    "colab_type": "code",
    "id": "o8lkGfwsjGCC"
   },
   "outputs": [],
   "source": [
    "#creating batches of anchor, positive, negative images\n",
    "def create_batch(batch_size=256):\n",
    "    x_anchors = np.zeros((batch_size, 784))\n",
    "    x_positives = np.zeros((batch_size, 784))\n",
    "    x_negatives = np.zeros((batch_size, 784))\n",
    "    \n",
    "    for i in range(0, batch_size):\n",
    "        random_index = random.randint(0, x_train.shape[0] - 1)\n",
    "        x_anchor = x_train[random_index]\n",
    "        y = y_train[random_index]\n",
    "        \n",
    "        indices_for_pos = np.squeeze(np.where(y_train == y))\n",
    "        indices_for_neg = np.squeeze(np.where(y_train != y))\n",
    "        \n",
    "        x_positive = x_train[indices_for_pos[random.randint(0, len(indices_for_pos) - 1)]]\n",
    "        x_negative = x_train[indices_for_neg[random.randint(0, len(indices_for_neg) - 1)]]\n",
    "        \n",
    "        x_anchors[i] = x_anchor\n",
    "        x_positives[i] = x_positive\n",
    "        x_negatives[i] = x_negative\n",
    "        \n",
    "    return [x_anchors, x_positives, x_negatives]"
   ]
  },
  {
   "cell_type": "code",
   "execution_count": 8,
   "metadata": {
    "colab": {
     "base_uri": "https://localhost:8080/",
     "height": 133
    },
    "colab_type": "code",
    "id": "O2XAcgUzjGCG",
    "outputId": "149264ec-2332-4dc8-e721-b198e6239337"
   },
   "outputs": [
    {
     "data": {
      "image/png": "[encoded data removed]",
      "text/plain": [
       "<Figure size 432x144 with 3 Axes>"
      ]
     },
     "metadata": {
      "tags": []
     },
     "output_type": "display_data"
    }
   ],
   "source": [
    "examples = create_batch(1)\n",
    "plot_triplets(examples)"
   ]
  },
  {
   "cell_type": "code",
   "execution_count": 9,
   "metadata": {
    "colab": {
     "base_uri": "https://localhost:8080/",
     "height": 233
    },
    "colab_type": "code",
    "id": "2A0XQSO_jGCK",
    "outputId": "f98d6e00-e7c1-4400-f0c6-7372a3d095e6"
   },
   "outputs": [
    {
     "name": "stdout",
     "output_type": "stream",
     "text": [
      "Model: \"sequential\"\n",
      "_________________________________________________________________\n",
      "Layer (type)                 Output Shape              Param #   \n",
      "=================================================================\n",
      "dense (Dense)                (None, 64)                50240     \n",
      "_________________________________________________________________\n",
      "dense_1 (Dense)              (None, 64)                4160      \n",
      "=================================================================\n",
      "Total params: 54,400\n",
      "Trainable params: 54,400\n",
      "Non-trainable params: 0\n",
      "_________________________________________________________________\n"
     ]
    }
   ],
   "source": [
    "emb_size = 64\n",
    "#embedding model\n",
    "embedding_model = tf.keras.models.Sequential([\n",
    "    tf.keras.layers.Dense(64, activation='relu', input_shape=(784,)),\n",
    "    tf.keras.layers.Dense(emb_size, activation='sigmoid')\n",
    "])\n",
    "\n",
    "embedding_model.summary()"
   ]
  },
  {
   "cell_type": "code",
   "execution_count": 10,
   "metadata": {
    "colab": {
     "base_uri": "https://localhost:8080/",
     "height": 215
    },
    "colab_type": "code",
    "id": "qEAm1Gl2jGCO",
    "outputId": "b02b9405-346c-4504-cd6f-b445531fc092"
   },
   "outputs": [
    {
     "name": "stdout",
     "output_type": "stream",
     "text": [
      "[0.5865474  0.45296592 0.43416643 0.4344824  0.5597486  0.46496662\n",
      " 0.469568   0.42559937 0.47847182 0.51184636 0.5122595  0.49712792\n",
      " 0.4312416  0.5015717  0.5161401  0.5698623  0.45234883 0.48239034\n",
      " 0.53734714 0.5038884  0.33032846 0.3849739  0.56523424 0.35188815\n",
      " 0.529251   0.5386345  0.3940951  0.5639105  0.36698645 0.5628848\n",
      " 0.6149728  0.52714807 0.47742015 0.5051451  0.6253552  0.46189713\n",
      " 0.4356451  0.4425753  0.41895515 0.47501877 0.47574523 0.4940725\n",
      " 0.42970183 0.45782438 0.39399785 0.529576   0.41634023 0.41912913\n",
      " 0.46776232 0.4597211  0.5137059  0.37210286 0.5355393  0.40468192\n",
      " 0.5459095  0.46034437 0.5207881  0.5623419  0.50510603 0.5449557\n",
      " 0.45646316 0.52243155 0.3698487  0.46646655]\n"
     ]
    }
   ],
   "source": [
    "example = np.expand_dims(x_train[0], axis=0)\n",
    "example_emb = embedding_model.predict(example)[0]\n",
    "\n",
    "print(example_emb)"
   ]
  },
  {
   "cell_type": "code",
   "execution_count": 11,
   "metadata": {
    "colab": {
     "base_uri": "https://localhost:8080/",
     "height": 413
    },
    "colab_type": "code",
    "id": "nMsgbOeyjGCS",
    "outputId": "378560d8-db24-4f52-ca88-6df14aa3a0b5"
   },
   "outputs": [
    {
     "name": "stdout",
     "output_type": "stream",
     "text": [
      "Model: \"model\"\n",
      "__________________________________________________________________________________________________\n",
      "Layer (type)                    Output Shape         Param #     Connected to                     \n",
      "==================================================================================================\n",
      "input_1 (InputLayer)            [(None, 784)]        0                                            \n",
      "__________________________________________________________________________________________________\n",
      "input_2 (InputLayer)            [(None, 784)]        0                                            \n",
      "__________________________________________________________________________________________________\n",
      "input_3 (InputLayer)            [(None, 784)]        0                                            \n",
      "__________________________________________________________________________________________________\n",
      "sequential (Sequential)         (None, 64)           54400       input_1[0][0]                    \n",
      "                                                                 input_2[0][0]                    \n",
      "                                                                 input_3[0][0]                    \n",
      "__________________________________________________________________________________________________\n",
      "concatenate (Concatenate)       (None, 192)          0           sequential[1][0]                 \n",
      "                                                                 sequential[2][0]                 \n",
      "                                                                 sequential[3][0]                 \n",
      "==================================================================================================\n",
      "Total params: 54,400\n",
      "Trainable params: 54,400\n",
      "Non-trainable params: 0\n",
      "__________________________________________________________________________________________________\n"
     ]
    }
   ],
   "source": [
    "#siamese network\n",
    "input_anchor = tf.keras.layers.Input(shape=(784,))\n",
    "input_positive = tf.keras.layers.Input(shape=(784,))\n",
    "input_negative = tf.keras.layers.Input(shape=(784,))\n",
    "\n",
    "embedding_anchor = embedding_model(input_anchor)\n",
    "embedding_positive = embedding_model(input_positive)\n",
    "embedding_negative = embedding_model(input_negative)\n",
    "\n",
    "output = tf.keras.layers.concatenate([embedding_anchor, embedding_positive, embedding_negative], axis=1)\n",
    "\n",
    "net = tf.keras.models.Model([input_anchor, input_positive, input_negative], output)\n",
    "net.summary()"
   ]
  },
  {
   "cell_type": "code",
   "execution_count": 12,
   "metadata": {
    "colab": {},
    "colab_type": "code",
    "id": "FplIrHpfjGCW"
   },
   "outputs": [],
   "source": [
    "alpha = 0.2\n",
    "\n",
    "def triplet_loss(y_true, y_pred):\n",
    "    anchor, positive, negative = y_pred[:,:emb_size], y_pred[:,emb_size:2*emb_size], y_pred[:,2*emb_size:]\n",
    "    positive_dist = tf.reduce_mean(tf.square(anchor - positive), axis=1)\n",
    "    negative_dist = tf.reduce_mean(tf.square(anchor - negative), axis=1)\n",
    "    return tf.maximum(positive_dist - negative_dist + alpha, 0.)"
   ]
  },
  {
   "cell_type": "code",
   "execution_count": 13,
   "metadata": {
    "colab": {},
    "colab_type": "code",
    "id": "yXgNXU7EjGCb"
   },
   "outputs": [],
   "source": [
    "def data_generator(batch_size=256):\n",
    "    while True:\n",
    "        x = create_batch(batch_size)\n",
    "        y = np.zeros((batch_size, 3*emb_size))\n",
    "        yield x, y"
   ]
  },
  {
   "cell_type": "code",
   "execution_count": 14,
   "metadata": {
    "colab": {
     "base_uri": "https://localhost:8080/",
     "height": 279
    },
    "colab_type": "code",
    "id": "GTsHlb0xjGCf",
    "outputId": "89ef3eb6-87ef-4c25-b65f-3bcd351123dc"
   },
   "outputs": [
    {
     "data": {
      "image/png": "[encoded data removed]",
      "text/plain": [
       "<Figure size 648x288 with 2 Axes>"
      ]
     },
     "metadata": {
      "needs_background": "light",
      "tags": []
     },
     "output_type": "display_data"
    }
   ],
   "source": [
    "#training\n",
    "batch_size = 2048\n",
    "epochs = 10\n",
    "steps_per_epoch = int(x_train.shape[0]/batch_size)\n",
    "\n",
    "net.compile(loss=triplet_loss, optimizer='adam')\n",
    "\n",
    "_ = net.fit(\n",
    "    data_generator(batch_size),\n",
    "    steps_per_epoch=steps_per_epoch,\n",
    "    epochs=epochs, verbose=False,\n",
    "    callbacks=[\n",
    "        PCAPlotter(\n",
    "            plt, embedding_model,\n",
    "            x_test[:1000], y_test[:1000]\n",
    "        )]\n",
    ")"
   ]
  },
  {
   "cell_type": "code",
   "execution_count": null,
   "metadata": {
    "colab": {},
    "colab_type": "code",
    "id": "Y4O5V86bmO4v"
   },
   "outputs": [],
   "source": []
  }
 ],
 "metadata": {
  "accelerator": "GPU",
  "colab": {
   "name": "Siamese Network with Triplet Loss in Keras - Complete.ipynb",
   "provenance": []
  },
  "kernelspec": {
   "display_name": "Python 3",
   "language": "python",
   "name": "python3"
  },
  "language_info": {
   "codemirror_mode": {
    "name": "ipython",
    "version": 3
   },
   "file_extension": ".py",
   "mimetype": "text/x-python",
   "name": "python",
   "nbconvert_exporter": "python",
   "pygments_lexer": "ipython3",
   "version": "3.7.7"
  }
 },
 "nbformat": 4,
 "nbformat_minor": 1
}
